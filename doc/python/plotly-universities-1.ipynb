{
 "cells": [
  {
   "cell_type": "code",
   "execution_count": 67,
   "metadata": {},
   "outputs": [
    {
     "name": "stdout",
     "output_type": "stream",
     "text": [
      "11.02\n"
     ]
    },
    {
     "data": {
      "application/vnd.plotly.v1+json": {
       "config": {
        "plotlyServerURL": "https://plot.ly"
       },
       "data": [
        {
         "hoverinfo": "text",
         "marker": {
          "color": 0,
          "size": 20,
          "symbol": "square"
         },
         "mode": "markers",
         "name": "(1 icon =<br> 1000 students)",
         "showlegend": true,
         "text": [
          "Haverford College: 1421"
         ],
         "type": "scatter",
         "x": [
          1.7
         ],
         "y": [
          3.4
         ]
        },
        {
         "mode": "text",
         "showlegend": false,
         "text": [
          "1,421"
         ],
         "textfont": {
          "color": "black",
          "size": 14
         },
         "type": "scatter",
         "x": [
          1.7
         ],
         "y": [
          1
         ]
        },
        {
         "hoverinfo": "text",
         "marker": {
          "color": 1,
          "size": 20,
          "symbol": "square"
         },
         "mode": "markers",
         "name": "(1 icon =<br> 1000 students)",
         "showlegend": false,
         "text": [
          "University of Mary Washington: 3611",
          "University of Mary Washington: 3611",
          "University of Mary Washington: 3611",
          "University of Mary Washington: 3611"
         ],
         "type": "scatter",
         "x": [
          3.4084999999999996,
          3.4084999999999996,
          3.4084999999999996,
          3.4084999999999996
         ],
         "y": [
          3.4,
          5.1,
          6.8,
          8.5
         ]
        },
        {
         "mode": "text",
         "showlegend": false,
         "text": [
          "3,611"
         ],
         "textfont": {
          "color": "black",
          "size": 14
         },
         "type": "scatter",
         "x": [
          3.4084999999999996
         ],
         "y": [
          1
         ]
        },
        {
         "hoverinfo": "text",
         "marker": {
          "color": 2,
          "size": 20,
          "symbol": "square"
         },
         "mode": "markers",
         "name": "(1 icon =<br> 1000 students)",
         "showlegend": false,
         "text": [
          "Brown University: 7226",
          "Brown University: 7226",
          "Brown University: 7226",
          "Brown University: 7226",
          "Brown University: 7226",
          "Brown University: 7226",
          "Brown University: 7226"
         ],
         "type": "scatter",
         "x": [
          5.116999999999999,
          5.116999999999999,
          5.116999999999999,
          5.116999999999999,
          5.116999999999999,
          5.116999999999999,
          5.116999999999999
         ],
         "y": [
          3.4,
          5.1,
          6.8,
          8.5,
          10.2,
          11.9,
          13.6
         ]
        },
        {
         "mode": "text",
         "showlegend": false,
         "text": [
          "7,226"
         ],
         "textfont": {
          "color": "black",
          "size": 14
         },
         "type": "scatter",
         "x": [
          5.116999999999999
         ],
         "y": [
          1
         ]
        },
        {
         "hoverinfo": "text",
         "marker": {
          "color": 3,
          "size": 20,
          "symbol": "square"
         },
         "mode": "markers",
         "name": "(1 icon =<br> 1000 students)",
         "showlegend": false,
         "text": [
          "Arizona State University: 65174",
          "Arizona State University: 65174",
          "Arizona State University: 65174",
          "Arizona State University: 65174",
          "Arizona State University: 65174",
          "Arizona State University: 65174",
          "Arizona State University: 65174",
          "Arizona State University: 65174",
          "Arizona State University: 65174",
          "Arizona State University: 65174",
          "Arizona State University: 65174",
          "Arizona State University: 65174",
          "Arizona State University: 65174",
          "Arizona State University: 65174",
          "Arizona State University: 65174",
          "Arizona State University: 65174",
          "Arizona State University: 65174",
          "Arizona State University: 65174",
          "Arizona State University: 65174",
          "Arizona State University: 65174",
          "Arizona State University: 65174",
          "Arizona State University: 65174",
          "Arizona State University: 65174",
          "Arizona State University: 65174",
          "Arizona State University: 65174",
          "Arizona State University: 65174",
          "Arizona State University: 65174",
          "Arizona State University: 65174",
          "Arizona State University: 65174",
          "Arizona State University: 65174",
          "Arizona State University: 65174",
          "Arizona State University: 65174",
          "Arizona State University: 65174",
          "Arizona State University: 65174",
          "Arizona State University: 65174",
          "Arizona State University: 65174",
          "Arizona State University: 65174",
          "Arizona State University: 65174",
          "Arizona State University: 65174",
          "Arizona State University: 65174",
          "Arizona State University: 65174",
          "Arizona State University: 65174",
          "Arizona State University: 65174",
          "Arizona State University: 65174",
          "Arizona State University: 65174",
          "Arizona State University: 65174",
          "Arizona State University: 65174",
          "Arizona State University: 65174",
          "Arizona State University: 65174",
          "Arizona State University: 65174",
          "Arizona State University: 65174",
          "Arizona State University: 65174",
          "Arizona State University: 65174",
          "Arizona State University: 65174",
          "Arizona State University: 65174",
          "Arizona State University: 65174",
          "Arizona State University: 65174",
          "Arizona State University: 65174",
          "Arizona State University: 65174",
          "Arizona State University: 65174",
          "Arizona State University: 65174",
          "Arizona State University: 65174",
          "Arizona State University: 65174",
          "Arizona State University: 65174",
          "Arizona State University: 65174"
         ],
         "type": "scatter",
         "x": [
          6.825499999999999,
          6.825499999999999,
          6.825499999999999,
          6.825499999999999,
          6.825499999999999,
          6.825499999999999,
          6.825499999999999,
          6.825499999999999,
          6.825499999999999,
          6.825499999999999,
          8.5255,
          8.5255,
          8.5255,
          8.5255,
          8.5255,
          8.5255,
          8.5255,
          8.5255,
          8.5255,
          8.5255,
          10.225499999999998,
          10.225499999999998,
          10.225499999999998,
          10.225499999999998,
          10.225499999999998,
          10.225499999999998,
          10.225499999999998,
          10.225499999999998,
          10.225499999999998,
          10.225499999999998,
          11.9255,
          11.9255,
          11.9255,
          11.9255,
          11.9255,
          11.9255,
          11.9255,
          11.9255,
          11.9255,
          11.9255,
          13.6255,
          13.6255,
          13.6255,
          13.6255,
          13.6255,
          13.6255,
          13.6255,
          13.6255,
          13.6255,
          13.6255,
          15.3255,
          15.3255,
          15.3255,
          15.3255,
          15.3255,
          15.3255,
          15.3255,
          15.3255,
          15.3255,
          15.3255,
          17.0255,
          17.0255,
          17.0255,
          17.0255,
          17.0255
         ],
         "y": [
          3.4,
          5.1,
          6.8,
          8.5,
          10.2,
          11.9,
          13.6,
          15.299999999999999,
          17,
          18.7,
          3.4,
          5.1,
          6.8,
          8.5,
          10.2,
          11.9,
          13.6,
          15.299999999999999,
          17,
          18.7,
          3.4,
          5.1,
          6.8,
          8.5,
          10.2,
          11.9,
          13.6,
          15.299999999999999,
          17,
          18.7,
          3.4,
          5.1,
          6.8,
          8.5,
          10.2,
          11.9,
          13.6,
          15.299999999999999,
          17,
          18.7,
          3.4,
          5.1,
          6.8,
          8.5,
          10.2,
          11.9,
          13.6,
          15.299999999999999,
          17,
          18.7,
          3.4,
          5.1,
          6.8,
          8.5,
          10.2,
          11.9,
          13.6,
          15.299999999999999,
          17,
          18.7,
          3.4,
          5.1,
          6.8,
          8.5,
          10.2
         ]
        },
        {
         "mode": "text",
         "showlegend": false,
         "text": [
          "65,174"
         ],
         "textfont": {
          "color": "black",
          "size": 14
         },
         "type": "scatter",
         "x": [
          11.9255
         ],
         "y": [
          1
         ]
        }
       ],
       "layout": {
        "height": 693,
        "legend": {
         "x": 1,
         "xanchor": "right",
         "y": -0.1,
         "yanchor": "top"
        },
        "template": {
         "data": {
          "bar": [
           {
            "error_x": {
             "color": "#2a3f5f"
            },
            "error_y": {
             "color": "#2a3f5f"
            },
            "marker": {
             "line": {
              "color": "#E5ECF6",
              "width": 0.5
             },
             "pattern": {
              "fillmode": "overlay",
              "size": 10,
              "solidity": 0.2
             }
            },
            "type": "bar"
           }
          ],
          "barpolar": [
           {
            "marker": {
             "line": {
              "color": "#E5ECF6",
              "width": 0.5
             },
             "pattern": {
              "fillmode": "overlay",
              "size": 10,
              "solidity": 0.2
             }
            },
            "type": "barpolar"
           }
          ],
          "carpet": [
           {
            "aaxis": {
             "endlinecolor": "#2a3f5f",
             "gridcolor": "white",
             "linecolor": "white",
             "minorgridcolor": "white",
             "startlinecolor": "#2a3f5f"
            },
            "baxis": {
             "endlinecolor": "#2a3f5f",
             "gridcolor": "white",
             "linecolor": "white",
             "minorgridcolor": "white",
             "startlinecolor": "#2a3f5f"
            },
            "type": "carpet"
           }
          ],
          "choropleth": [
           {
            "colorbar": {
             "outlinewidth": 0,
             "ticks": ""
            },
            "type": "choropleth"
           }
          ],
          "contour": [
           {
            "colorbar": {
             "outlinewidth": 0,
             "ticks": ""
            },
            "colorscale": [
             [
              0,
              "#0d0887"
             ],
             [
              0.1111111111111111,
              "#46039f"
             ],
             [
              0.2222222222222222,
              "#7201a8"
             ],
             [
              0.3333333333333333,
              "#9c179e"
             ],
             [
              0.4444444444444444,
              "#bd3786"
             ],
             [
              0.5555555555555556,
              "#d8576b"
             ],
             [
              0.6666666666666666,
              "#ed7953"
             ],
             [
              0.7777777777777778,
              "#fb9f3a"
             ],
             [
              0.8888888888888888,
              "#fdca26"
             ],
             [
              1,
              "#f0f921"
             ]
            ],
            "type": "contour"
           }
          ],
          "contourcarpet": [
           {
            "colorbar": {
             "outlinewidth": 0,
             "ticks": ""
            },
            "type": "contourcarpet"
           }
          ],
          "heatmap": [
           {
            "colorbar": {
             "outlinewidth": 0,
             "ticks": ""
            },
            "colorscale": [
             [
              0,
              "#0d0887"
             ],
             [
              0.1111111111111111,
              "#46039f"
             ],
             [
              0.2222222222222222,
              "#7201a8"
             ],
             [
              0.3333333333333333,
              "#9c179e"
             ],
             [
              0.4444444444444444,
              "#bd3786"
             ],
             [
              0.5555555555555556,
              "#d8576b"
             ],
             [
              0.6666666666666666,
              "#ed7953"
             ],
             [
              0.7777777777777778,
              "#fb9f3a"
             ],
             [
              0.8888888888888888,
              "#fdca26"
             ],
             [
              1,
              "#f0f921"
             ]
            ],
            "type": "heatmap"
           }
          ],
          "heatmapgl": [
           {
            "colorbar": {
             "outlinewidth": 0,
             "ticks": ""
            },
            "colorscale": [
             [
              0,
              "#0d0887"
             ],
             [
              0.1111111111111111,
              "#46039f"
             ],
             [
              0.2222222222222222,
              "#7201a8"
             ],
             [
              0.3333333333333333,
              "#9c179e"
             ],
             [
              0.4444444444444444,
              "#bd3786"
             ],
             [
              0.5555555555555556,
              "#d8576b"
             ],
             [
              0.6666666666666666,
              "#ed7953"
             ],
             [
              0.7777777777777778,
              "#fb9f3a"
             ],
             [
              0.8888888888888888,
              "#fdca26"
             ],
             [
              1,
              "#f0f921"
             ]
            ],
            "type": "heatmapgl"
           }
          ],
          "histogram": [
           {
            "marker": {
             "pattern": {
              "fillmode": "overlay",
              "size": 10,
              "solidity": 0.2
             }
            },
            "type": "histogram"
           }
          ],
          "histogram2d": [
           {
            "colorbar": {
             "outlinewidth": 0,
             "ticks": ""
            },
            "colorscale": [
             [
              0,
              "#0d0887"
             ],
             [
              0.1111111111111111,
              "#46039f"
             ],
             [
              0.2222222222222222,
              "#7201a8"
             ],
             [
              0.3333333333333333,
              "#9c179e"
             ],
             [
              0.4444444444444444,
              "#bd3786"
             ],
             [
              0.5555555555555556,
              "#d8576b"
             ],
             [
              0.6666666666666666,
              "#ed7953"
             ],
             [
              0.7777777777777778,
              "#fb9f3a"
             ],
             [
              0.8888888888888888,
              "#fdca26"
             ],
             [
              1,
              "#f0f921"
             ]
            ],
            "type": "histogram2d"
           }
          ],
          "histogram2dcontour": [
           {
            "colorbar": {
             "outlinewidth": 0,
             "ticks": ""
            },
            "colorscale": [
             [
              0,
              "#0d0887"
             ],
             [
              0.1111111111111111,
              "#46039f"
             ],
             [
              0.2222222222222222,
              "#7201a8"
             ],
             [
              0.3333333333333333,
              "#9c179e"
             ],
             [
              0.4444444444444444,
              "#bd3786"
             ],
             [
              0.5555555555555556,
              "#d8576b"
             ],
             [
              0.6666666666666666,
              "#ed7953"
             ],
             [
              0.7777777777777778,
              "#fb9f3a"
             ],
             [
              0.8888888888888888,
              "#fdca26"
             ],
             [
              1,
              "#f0f921"
             ]
            ],
            "type": "histogram2dcontour"
           }
          ],
          "mesh3d": [
           {
            "colorbar": {
             "outlinewidth": 0,
             "ticks": ""
            },
            "type": "mesh3d"
           }
          ],
          "parcoords": [
           {
            "line": {
             "colorbar": {
              "outlinewidth": 0,
              "ticks": ""
             }
            },
            "type": "parcoords"
           }
          ],
          "pie": [
           {
            "automargin": true,
            "type": "pie"
           }
          ],
          "scatter": [
           {
            "fillpattern": {
             "fillmode": "overlay",
             "size": 10,
             "solidity": 0.2
            },
            "type": "scatter"
           }
          ],
          "scatter3d": [
           {
            "line": {
             "colorbar": {
              "outlinewidth": 0,
              "ticks": ""
             }
            },
            "marker": {
             "colorbar": {
              "outlinewidth": 0,
              "ticks": ""
             }
            },
            "type": "scatter3d"
           }
          ],
          "scattercarpet": [
           {
            "marker": {
             "colorbar": {
              "outlinewidth": 0,
              "ticks": ""
             }
            },
            "type": "scattercarpet"
           }
          ],
          "scattergeo": [
           {
            "marker": {
             "colorbar": {
              "outlinewidth": 0,
              "ticks": ""
             }
            },
            "type": "scattergeo"
           }
          ],
          "scattergl": [
           {
            "marker": {
             "colorbar": {
              "outlinewidth": 0,
              "ticks": ""
             }
            },
            "type": "scattergl"
           }
          ],
          "scattermapbox": [
           {
            "marker": {
             "colorbar": {
              "outlinewidth": 0,
              "ticks": ""
             }
            },
            "type": "scattermapbox"
           }
          ],
          "scatterpolar": [
           {
            "marker": {
             "colorbar": {
              "outlinewidth": 0,
              "ticks": ""
             }
            },
            "type": "scatterpolar"
           }
          ],
          "scatterpolargl": [
           {
            "marker": {
             "colorbar": {
              "outlinewidth": 0,
              "ticks": ""
             }
            },
            "type": "scatterpolargl"
           }
          ],
          "scatterternary": [
           {
            "marker": {
             "colorbar": {
              "outlinewidth": 0,
              "ticks": ""
             }
            },
            "type": "scatterternary"
           }
          ],
          "surface": [
           {
            "colorbar": {
             "outlinewidth": 0,
             "ticks": ""
            },
            "colorscale": [
             [
              0,
              "#0d0887"
             ],
             [
              0.1111111111111111,
              "#46039f"
             ],
             [
              0.2222222222222222,
              "#7201a8"
             ],
             [
              0.3333333333333333,
              "#9c179e"
             ],
             [
              0.4444444444444444,
              "#bd3786"
             ],
             [
              0.5555555555555556,
              "#d8576b"
             ],
             [
              0.6666666666666666,
              "#ed7953"
             ],
             [
              0.7777777777777778,
              "#fb9f3a"
             ],
             [
              0.8888888888888888,
              "#fdca26"
             ],
             [
              1,
              "#f0f921"
             ]
            ],
            "type": "surface"
           }
          ],
          "table": [
           {
            "cells": {
             "fill": {
              "color": "#EBF0F8"
             },
             "line": {
              "color": "white"
             }
            },
            "header": {
             "fill": {
              "color": "#C8D4E3"
             },
             "line": {
              "color": "white"
             }
            },
            "type": "table"
           }
          ]
         },
         "layout": {
          "annotationdefaults": {
           "arrowcolor": "#2a3f5f",
           "arrowhead": 0,
           "arrowwidth": 1
          },
          "autotypenumbers": "strict",
          "coloraxis": {
           "colorbar": {
            "outlinewidth": 0,
            "ticks": ""
           }
          },
          "colorscale": {
           "diverging": [
            [
             0,
             "#8e0152"
            ],
            [
             0.1,
             "#c51b7d"
            ],
            [
             0.2,
             "#de77ae"
            ],
            [
             0.3,
             "#f1b6da"
            ],
            [
             0.4,
             "#fde0ef"
            ],
            [
             0.5,
             "#f7f7f7"
            ],
            [
             0.6,
             "#e6f5d0"
            ],
            [
             0.7,
             "#b8e186"
            ],
            [
             0.8,
             "#7fbc41"
            ],
            [
             0.9,
             "#4d9221"
            ],
            [
             1,
             "#276419"
            ]
           ],
           "sequential": [
            [
             0,
             "#0d0887"
            ],
            [
             0.1111111111111111,
             "#46039f"
            ],
            [
             0.2222222222222222,
             "#7201a8"
            ],
            [
             0.3333333333333333,
             "#9c179e"
            ],
            [
             0.4444444444444444,
             "#bd3786"
            ],
            [
             0.5555555555555556,
             "#d8576b"
            ],
            [
             0.6666666666666666,
             "#ed7953"
            ],
            [
             0.7777777777777778,
             "#fb9f3a"
            ],
            [
             0.8888888888888888,
             "#fdca26"
            ],
            [
             1,
             "#f0f921"
            ]
           ],
           "sequentialminus": [
            [
             0,
             "#0d0887"
            ],
            [
             0.1111111111111111,
             "#46039f"
            ],
            [
             0.2222222222222222,
             "#7201a8"
            ],
            [
             0.3333333333333333,
             "#9c179e"
            ],
            [
             0.4444444444444444,
             "#bd3786"
            ],
            [
             0.5555555555555556,
             "#d8576b"
            ],
            [
             0.6666666666666666,
             "#ed7953"
            ],
            [
             0.7777777777777778,
             "#fb9f3a"
            ],
            [
             0.8888888888888888,
             "#fdca26"
            ],
            [
             1,
             "#f0f921"
            ]
           ]
          },
          "colorway": [
           "#636efa",
           "#EF553B",
           "#00cc96",
           "#ab63fa",
           "#FFA15A",
           "#19d3f3",
           "#FF6692",
           "#B6E880",
           "#FF97FF",
           "#FECB52"
          ],
          "font": {
           "color": "#2a3f5f"
          },
          "geo": {
           "bgcolor": "white",
           "lakecolor": "white",
           "landcolor": "#E5ECF6",
           "showlakes": true,
           "showland": true,
           "subunitcolor": "white"
          },
          "hoverlabel": {
           "align": "left"
          },
          "hovermode": "closest",
          "mapbox": {
           "style": "light"
          },
          "paper_bgcolor": "white",
          "plot_bgcolor": "#E5ECF6",
          "polar": {
           "angularaxis": {
            "gridcolor": "white",
            "linecolor": "white",
            "ticks": ""
           },
           "bgcolor": "#E5ECF6",
           "radialaxis": {
            "gridcolor": "white",
            "linecolor": "white",
            "ticks": ""
           }
          },
          "scene": {
           "xaxis": {
            "backgroundcolor": "#E5ECF6",
            "gridcolor": "white",
            "gridwidth": 2,
            "linecolor": "white",
            "showbackground": true,
            "ticks": "",
            "zerolinecolor": "white"
           },
           "yaxis": {
            "backgroundcolor": "#E5ECF6",
            "gridcolor": "white",
            "gridwidth": 2,
            "linecolor": "white",
            "showbackground": true,
            "ticks": "",
            "zerolinecolor": "white"
           },
           "zaxis": {
            "backgroundcolor": "#E5ECF6",
            "gridcolor": "white",
            "gridwidth": 2,
            "linecolor": "white",
            "showbackground": true,
            "ticks": "",
            "zerolinecolor": "white"
           }
          },
          "shapedefaults": {
           "line": {
            "color": "#2a3f5f"
           }
          },
          "ternary": {
           "aaxis": {
            "gridcolor": "white",
            "linecolor": "white",
            "ticks": ""
           },
           "baxis": {
            "gridcolor": "white",
            "linecolor": "white",
            "ticks": ""
           },
           "bgcolor": "#E5ECF6",
           "caxis": {
            "gridcolor": "white",
            "linecolor": "white",
            "ticks": ""
           }
          },
          "title": {
           "x": 0.05
          },
          "xaxis": {
           "automargin": true,
           "gridcolor": "white",
           "linecolor": "white",
           "ticks": "",
           "title": {
            "standoff": 15
           },
           "zerolinecolor": "white",
           "zerolinewidth": 2
          },
          "yaxis": {
           "automargin": true,
           "gridcolor": "white",
           "linecolor": "white",
           "ticks": "",
           "title": {
            "standoff": 15
           },
           "zerolinecolor": "white",
           "zerolinewidth": 2
          }
         }
        },
        "title": {
         "text": "Undergraduate Enrollment at Participating Schools"
        },
        "width": 643.286,
        "xaxis": {
         "showgrid": false,
         "tickangle": -45,
         "ticktext": [
          "Haverford College",
          "University of Mary Washington",
          "Brown University",
          "Arizona State University"
         ],
         "tickvals": [
          1.7,
          3.4084999999999996,
          5.116999999999999,
          11.9255
         ]
        },
        "yaxis": {
         "visible": false
        }
       }
      }
     },
     "metadata": {},
     "output_type": "display_data"
    }
   ],
   "source": [
    "import plotly.graph_objects as go\n",
    "import pandas as pd\n",
    "\n",
    "def pictogram_bar(df, title, icon_size, max_height=10, units_per_icon=1, column_spacing=0.005,icon_spacing=0.005, scale_factor=1.45,description_of_unit = \"\"):\n",
    "   \n",
    "    fig = go.Figure()\n",
    "    x_start = 1\n",
    "    tick_locations = []\n",
    "\n",
    "    for i, (category, value) in df.iterrows():\n",
    "        icon_count = round(value / units_per_icon)\n",
    "        num_columns = -(-icon_count // max_height)  # Ceiling division\n",
    "\n",
    "        \n",
    "        \n",
    "        x_coordinates, y_coordinates = [], []\n",
    "        for col in range(num_columns):\n",
    "            column_icons = min(max_height, icon_count - col * max_height)\n",
    "            x_coordinates.extend([(x_start + col)*(1 + icon_spacing)] * column_icons)\n",
    "           # y_coordinates.extend(range(1, column_icons + 1))\n",
    "            y_coordinates.extend([(1 + icon_spacing) * y for y in range(2, column_icons + 2)])\n",
    "\n",
    "\n",
    "        # Add scatter plot for the category\n",
    "        fig.add_trace(go.Scatter(\n",
    "            x=x_coordinates,\n",
    "            y=y_coordinates,\n",
    "            mode='markers',\n",
    "            marker=dict(size=icon_size, symbol=\"square\", color= i),\n",
    "            hoverinfo=\"text\",\n",
    "            text=[f\"{category}: {value}\" for _ in range(len(x_coordinates))],\n",
    "            name= f\"(1 icon =<br> {units_per_icon} {description_of_unit})\",\n",
    "            showlegend=(i==0)\n",
    "\n",
    "        ))\n",
    "        \n",
    "\n",
    "        center_of_category_x = (x_start + (num_columns - 1) / 2)*(1 + icon_spacing)\n",
    "\n",
    "        # Add value annotations above the section: new line of code \n",
    "        fig.add_trace(go.Scatter(\n",
    "            x=[center_of_category_x],\n",
    "            y=[1],#(max_height+ 1)*(1 + icon_spacing) \n",
    "            mode=\"text\",\n",
    "            text=[f\"{value:,.0f}\"],\n",
    "            textfont=dict(size=14, color=\"black\"),\n",
    "            showlegend=False,\n",
    "        ))\n",
    "\n",
    "        # Track tick locations\n",
    "        tick_locations.append(center_of_category_x)\n",
    "        x_start += num_columns + column_spacing\n",
    "\n",
    "    print(x_start)\n",
    "    # Update layout\n",
    "    fig.update_layout(\n",
    "        title=title,\n",
    "        xaxis=dict(\n",
    "            #range=[0,x_start],\n",
    "            tickvals=tick_locations,\n",
    "            ticktext=list(df[df.columns[0]]),\n",
    "            tickangle=-45,\n",
    "            showgrid=False,\n",
    "        ),\n",
    "        yaxis=dict(\n",
    "             visible= False,\n",
    "            #scaleanchor = \"x\",\n",
    "            #scaleratio = 1,\n",
    "        ),\n",
    "        \n",
    "        legend=dict(  #this works best with the big category last, so there will be typically space for a legend in the lower right\n",
    "                yanchor=\"top\",\n",
    "                y=-0.1,\n",
    "                xanchor=\"right\",\n",
    "                x=1),\n",
    "        height=(max_height * (icon_size*(1+icon_spacing)*scale_factor) + 200),  #we care about the ratio of the icon size measured in PX to the size of the plot area, so \n",
    "        width=(x_start * (icon_size*(1+icon_spacing)*scale_factor) + 100)  # Done adjusted width based on number of categories\n",
    "    )\n",
    "\n",
    "    fig.show()\n",
    "\n",
    "\n",
    "df = pd.DataFrame({\n",
    "    'School': [\"Haverford College\", \"University of Mary Washington\", \"Brown University\", \"Arizona State University\"],\n",
    "    'Enrollment': [1421, 3611, 7226, 65174]\n",
    "})\n",
    "\n",
    "pictogram_bar(\n",
    "    df,\n",
    "    title=\"Undergraduate Enrollment at Participating Schools\",\n",
    "    units_per_icon=1000,\n",
    "    icon_size=20,\n",
    "   icon_spacing=0.7,\n",
    "   description_of_unit=\"students\"\n",
    ")\n",
    "\n",
    "\n"
   ]
  },
  {
   "cell_type": "markdown",
   "metadata": {},
   "source": [
    "\n"
   ]
  },
  {
   "cell_type": "code",
   "execution_count": 51,
   "metadata": {},
   "outputs": [
    {
     "ename": "NameError",
     "evalue": "name 'x_start' is not defined",
     "output_type": "error",
     "traceback": [
      "\u001b[1;31m---------------------------------------------------------------------------\u001b[0m",
      "\u001b[1;31mNameError\u001b[0m                                 Traceback (most recent call last)",
      "Cell \u001b[1;32mIn[51], line 1\u001b[0m\n\u001b[1;32m----> 1\u001b[0m \u001b[38;5;28mprint\u001b[39m(x_start)\n",
      "\u001b[1;31mNameError\u001b[0m: name 'x_start' is not defined"
     ]
    }
   ],
   "source": []
  },
  {
   "cell_type": "code",
   "execution_count": 66,
   "metadata": {},
   "outputs": [
    {
     "data": {
      "text/plain": [
       "0                Haverford College\n",
       "1    University of Mary Washington\n",
       "2                 Brown University\n",
       "3         Arizona State University\n",
       "Name: School, dtype: object"
      ]
     },
     "execution_count": 66,
     "metadata": {},
     "output_type": "execute_result"
    }
   ],
   "source": []
  },
  {
   "cell_type": "code",
   "execution_count": null,
   "metadata": {},
   "outputs": [],
   "source": []
  }
 ],
 "metadata": {
  "kernelspec": {
   "display_name": "anaconda_312",
   "language": "python",
   "name": "python3"
  },
  "language_info": {
   "codemirror_mode": {
    "name": "ipython",
    "version": 3
   },
   "file_extension": ".py",
   "mimetype": "text/x-python",
   "name": "python",
   "nbconvert_exporter": "python",
   "pygments_lexer": "ipython3",
   "version": "3.12.4"
  }
 },
 "nbformat": 4,
 "nbformat_minor": 2
}
